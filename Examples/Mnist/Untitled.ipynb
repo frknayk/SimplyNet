{
 "cells": [
  {
   "cell_type": "code",
   "execution_count": 1,
   "metadata": {},
   "outputs": [],
   "source": [
    "import matplotlib.pyplot as plt\n",
    "from Networks.fcnn import FullyConnectedNetwork"
   ]
  },
  {
   "cell_type": "code",
   "execution_count": 2,
   "metadata": {},
   "outputs": [],
   "source": [
    "# Import dataset readers\n",
    "from Readers.Data_Readers.mnist_reader import Reader_MNIST"
   ]
  },
  {
   "cell_type": "code",
   "execution_count": 3,
   "metadata": {},
   "outputs": [
    {
     "name": "stdout",
     "output_type": "stream",
     "text": [
      "Loading mnist dataset, it may take a few minutes ...\n",
      "Mnist dataset is loaded succesfully !\n"
     ]
    }
   ],
   "source": [
    "mnist_reader = Reader_MNIST(\"/home/furkan/Furkan/Codes/Coursera-DL/SimplyNet/Data/mnist/\")"
   ]
  },
  {
   "cell_type": "code",
   "execution_count": 4,
   "metadata": {},
   "outputs": [
    {
     "name": "stderr",
     "output_type": "stream",
     "text": [
      "/home/furkan/Furkan/Codes/Coursera-DL/SimplyNet/Readers/networker_reader.py:47: YAMLLoadWarning: calling yaml.load() without Loader=... is deprecated, as the default Loader is unsafe. Please read https://msg.pyyaml.org/load for full details.\n",
      "  yaml_data = yaml.load(yaml_f)\n"
     ]
    }
   ],
   "source": [
    "# Initate neural network\n",
    "fcnn = FullyConnectedNetwork(input_size=mnist_reader.train_data.shape[0],output_size=10,seed=1,arch_path=\"Examples/Mnist/example_network.yaml\")"
   ]
  },
  {
   "cell_type": "code",
   "execution_count": 5,
   "metadata": {},
   "outputs": [
    {
     "name": "stdout",
     "output_type": "stream",
     "text": [
      "(784, 60000)\n"
     ]
    },
    {
     "ename": "NameError",
     "evalue": "name 'y_hat' is not defined",
     "output_type": "error",
     "traceback": [
      "\u001b[0;31m---------------------------------------------------------------------------\u001b[0m",
      "\u001b[0;31mNameError\u001b[0m                                 Traceback (most recent call last)",
      "\u001b[0;32m<ipython-input-5-3252af818f4c>\u001b[0m in \u001b[0;36m<module>\u001b[0;34m\u001b[0m\n\u001b[1;32m      1\u001b[0m \u001b[0mprint\u001b[0m\u001b[0;34m(\u001b[0m\u001b[0mmnist_reader\u001b[0m\u001b[0;34m.\u001b[0m\u001b[0mtrain_data\u001b[0m\u001b[0;34m.\u001b[0m\u001b[0mshape\u001b[0m\u001b[0;34m)\u001b[0m\u001b[0;34m\u001b[0m\u001b[0;34m\u001b[0m\u001b[0m\n\u001b[0;32m----> 2\u001b[0;31m \u001b[0mprint\u001b[0m\u001b[0;34m(\u001b[0m\u001b[0my_hat\u001b[0m\u001b[0;34m.\u001b[0m\u001b[0mshape\u001b[0m\u001b[0;34m)\u001b[0m\u001b[0;34m\u001b[0m\u001b[0;34m\u001b[0m\u001b[0m\n\u001b[0m\u001b[1;32m      3\u001b[0m \u001b[0mmnist_reader\u001b[0m\u001b[0;34m.\u001b[0m\u001b[0mlabels_train\u001b[0m \u001b[0;34m=\u001b[0m \u001b[0mmnist_reader\u001b[0m\u001b[0;34m.\u001b[0m\u001b[0mlabels_train\u001b[0m\u001b[0;34m.\u001b[0m\u001b[0mreshape\u001b[0m\u001b[0;34m(\u001b[0m\u001b[0;36m1\u001b[0m\u001b[0;34m,\u001b[0m\u001b[0mmnist_reader\u001b[0m\u001b[0;34m.\u001b[0m\u001b[0mlabels_train\u001b[0m\u001b[0;34m.\u001b[0m\u001b[0mshape\u001b[0m\u001b[0;34m[\u001b[0m\u001b[0;36m0\u001b[0m\u001b[0;34m]\u001b[0m\u001b[0;34m)\u001b[0m\u001b[0;34m\u001b[0m\u001b[0;34m\u001b[0m\u001b[0m\n\u001b[1;32m      4\u001b[0m \u001b[0mprint\u001b[0m\u001b[0;34m(\u001b[0m\u001b[0mmnist_reader\u001b[0m\u001b[0;34m.\u001b[0m\u001b[0mlabels_train\u001b[0m\u001b[0;34m.\u001b[0m\u001b[0mshape\u001b[0m\u001b[0;34m)\u001b[0m\u001b[0;34m\u001b[0m\u001b[0;34m\u001b[0m\u001b[0m\n",
      "\u001b[0;31mNameError\u001b[0m: name 'y_hat' is not defined"
     ]
    }
   ],
   "source": [
    "mnist_reader.labels_train = mnist_reader.labels_train.reshape(1,mnist_reader.labels_train.shape[0])\n",
    "print(mnist_reader.labels_train.shape)"
   ]
  },
  {
   "cell_type": "code",
   "execution_count": 22,
   "metadata": {},
   "outputs": [
    {
     "name": "stderr",
     "output_type": "stream",
     "text": [
      "/home/furkan/Furkan/Codes/Coursera-DL/SimplyNet/Networks/fcnn.py:36: RuntimeWarning: divide by zero encountered in true_divide\n",
      "  cost = -np.sum( Y*np.log(y_hat) + (1-Y)*np.log(1-y_hat) ) * ( 1/Y.shape[1] )\n",
      "/home/furkan/Furkan/Codes/Coursera-DL/SimplyNet/Networks/fcnn.py:36: RuntimeWarning: invalid value encountered in true_divide\n",
      "  cost = -np.sum( Y*np.log(y_hat) + (1-Y)*np.log(1-y_hat) ) * ( 1/Y.shape[1] )\n"
     ]
    },
    {
     "name": "stdout",
     "output_type": "stream",
     "text": [
      "nan\n",
      "nan\n",
      "nan\n"
     ]
    }
   ],
   "source": [
    "# TRAINING\n",
    "losses = []\n",
    "num_iterations = 3\n",
    "for idx in range(0, num_iterations):\n",
    "    # Neural network's prediction\n",
    "    y_hat = fcnn.forward(X=mnist_reader.train_data )\n",
    "    \n",
    "    loss = fcnn.cost(Y=mnist_reader.labels_train,y_hat=y_hat)\n",
    "#     losses.append(loss)\n",
    "    print(loss)\n",
    "#     fcnn.backward()\n",
    "#     fcnn.update()\n",
    "#     if idx % 100 == 0:\n",
    "#         print(\"training step : {0} -- loss : {1}\".format(idx,loss))"
   ]
  },
  {
   "cell_type": "code",
   "execution_count": null,
   "metadata": {},
   "outputs": [],
   "source": []
  }
 ],
 "metadata": {
  "kernelspec": {
   "display_name": "Python 3.6.9 64-bit",
   "language": "python",
   "name": "python36964bit436e3789323b42cdaff718f023cfe9f0"
  },
  "language_info": {
   "codemirror_mode": {
    "name": "ipython",
    "version": 3
   },
   "file_extension": ".py",
   "mimetype": "text/x-python",
   "name": "python",
   "nbconvert_exporter": "python",
   "pygments_lexer": "ipython3",
   "version": "3.6.9"
  }
 },
 "nbformat": 4,
 "nbformat_minor": 4
}
